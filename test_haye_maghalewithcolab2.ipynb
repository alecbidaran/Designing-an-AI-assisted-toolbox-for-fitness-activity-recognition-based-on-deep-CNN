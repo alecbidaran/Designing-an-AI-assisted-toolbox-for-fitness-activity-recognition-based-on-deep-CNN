{
  "nbformat": 4,
  "nbformat_minor": 0,
  "metadata": {
    "colab": {
      "name": "test_haye_maghalewithcolab2.ipynb",
      "provenance": [],
      "collapsed_sections": [],
      "machine_shape": "hm",
      "include_colab_link": true
    },
    "kernelspec": {
      "name": "python3",
      "display_name": "Python 3"
    },
    "accelerator": "GPU"
  },
  "cells": [
    {
      "cell_type": "markdown",
      "metadata": {
        "id": "view-in-github",
        "colab_type": "text"
      },
      "source": [
        "<a href=\"https://colab.research.google.com/github/alecbidaran/Designing-an-AI-assisted-toolbox-for-fitness-activity-recognition-based-on-deep-CNN/blob/main/test_haye_maghalewithcolab2.ipynb\" target=\"_parent\"><img src=\"https://colab.research.google.com/assets/colab-badge.svg\" alt=\"Open In Colab\"/></a>"
      ]
    },
    {
      "cell_type": "code",
      "metadata": {
        "id": "-S-9OfedJlxR"
      },
      "source": [
        "try:\n",
        "    # %tensorflow_version only exists in Colab.\n",
        "    %tensorflow_version 2.x\n",
        "    IS_COLAB = True\n",
        "except Exception:\n",
        "    IS_COLAB = False"
      ],
      "execution_count": null,
      "outputs": []
    },
    {
      "cell_type": "code",
      "metadata": {
        "id": "4oS37LQCCqZB",
        "colab": {
          "base_uri": "https://localhost:8080/"
        },
        "outputId": "07585f3c-465e-4bf5-a418-1151b66e3407"
      },
      "source": [
        "from google.colab import drive\n",
        "drive.mount('/content/drive')"
      ],
      "execution_count": null,
      "outputs": [
        {
          "output_type": "stream",
          "text": [
            "Drive already mounted at /content/drive; to attempt to forcibly remount, call drive.mount(\"/content/drive\", force_remount=True).\n"
          ],
          "name": "stdout"
        }
      ]
    },
    {
      "cell_type": "code",
      "metadata": {
        "id": "YWo-WLuQ7OUV"
      },
      "source": [
        "\n",
        "# TensorFlow ≥2.0 is required\n",
        "import tensorflow as tf\n",
        "from tensorflow import keras\n",
        "import numpy as np\n",
        "from PIL import ImageFile\n",
        "ImageFile.LOAD_TRUNCATED_IMAGES = True\n",
        "from imutils import paths\n",
        "import os \n",
        "import cv2\n",
        "import functools\n"
      ],
      "execution_count": null,
      "outputs": []
    },
    {
      "cell_type": "code",
      "metadata": {
        "id": "IvRs1GW-7RVp"
      },
      "source": [
        "train_datagen=keras.preprocessing.image.ImageDataGenerator(rescale=1./255,zoom_range=0.2,validation_split=0.2,horizontal_flip=True)\n",
        "test_datagen=keras.preprocessing.image.ImageDataGenerator(rescale=1./255,validation_split=0.2,horizontal_flip=True)\n",
        "test1_datagen=keras.preprocessing.image.ImageDataGenerator(rescale=1./255,horizontal_flip=True)"
      ],
      "execution_count": null,
      "outputs": []
    },
    {
      "cell_type": "code",
      "metadata": {
        "id": "FP_6n9xy7UGx"
      },
      "source": [
        "optical_dense='/content/drive/My Drive/datasets/traindofl=10'\n",
        "RGB='/content/drive/My Drive/datasets/RGB'\n",
        "test_dence='/content/drive/My Drive/datasets/test_dof'\n",
        "test='/content/drive/My Drive/datasets/test'\n",
        "test_rgb='/content/drive/My Drive/datasets/test_RGB (1)'\n",
        "valid_rgb='/content/drive/My Drive/datasets/valid_RGB'"
      ],
      "execution_count": null,
      "outputs": []
    },
    {
      "cell_type": "code",
      "metadata": {
        "id": "1mmOcKnI7We8",
        "colab": {
          "base_uri": "https://localhost:8080/"
        },
        "outputId": "9e989fb8-8f27-4685-d4b8-264fbf2fcb6a"
      },
      "source": [
        "train_dense_batch=train_datagen.flow_from_directory(optical_dense, target_size=(224, 224), color_mode='rgb', classes=None, class_mode='categorical', batch_size=16, seed=None, save_to_dir=None, save_prefix='', save_format='png', follow_links=False, subset='training')\n",
        "train_RGB_batch=train_datagen.flow_from_directory(RGB, target_size=(224, 224), color_mode='rgb', classes=None, class_mode='categorical', batch_size=16, seed=None, save_to_dir=None, save_prefix='', save_format='png', follow_links=False, subset='training')\n",
        "valid_RGB_batch=test_datagen.flow_from_directory(valid_rgb, target_size=(224, 224), color_mode='rgb', classes=None, class_mode='categorical', batch_size=16, seed=None, save_to_dir=None, save_prefix='', save_format='png', follow_links=False, subset=None)\n",
        "valid_RGB_batch1=test_datagen.flow_from_directory(RGB, target_size=(224, 224), color_mode='rgb', classes=None, class_mode='categorical', batch_size=16, shuffle=False, seed=None, save_to_dir=None, save_prefix='', save_format='png', follow_links=False, subset='validation')\n",
        "test_batch=test1_datagen.flow_from_directory(test_rgb, target_size=(224, 224), color_mode='rgb', classes=None, class_mode='categorical', batch_size=16, seed=None, save_to_dir=None, save_prefix='', save_format='png', follow_links=False, subset=None)\n",
        "valid_dense_batch1=test_datagen.flow_from_directory(optical_dense, target_size=(224, 224), color_mode='rgb', classes=None, class_mode='categorical', batch_size=16, seed=None, save_to_dir=None, save_prefix='', save_format='png', follow_links=False, subset='validation')"
      ],
      "execution_count": null,
      "outputs": [
        {
          "output_type": "stream",
          "text": [
            "Found 6968 images belonging to 7 classes.\n",
            "Found 7838 images belonging to 7 classes.\n",
            "Found 279 images belonging to 7 classes.\n",
            "Found 1956 images belonging to 7 classes.\n",
            "Found 2091 images belonging to 7 classes.\n",
            "Found 1739 images belonging to 7 classes.\n"
          ],
          "name": "stdout"
        }
      ]
    },
    {
      "cell_type": "code",
      "metadata": {
        "id": "2zS5UavI1EcJ"
      },
      "source": [
        "pretrained_model=keras.applications.MobileNet(input_shape=(224,224,3),include_top=False,weights='imagenet')"
      ],
      "execution_count": null,
      "outputs": []
    },
    {
      "cell_type": "code",
      "metadata": {
        "id": "WNv0RxLL7l9D"
      },
      "source": [
        "def create_model():\n",
        "  base=pretrained_model\n",
        "  flatten=keras.layers.Flatten()(base.output)\n",
        "  Dense1=keras.layers.Dense(1024,activation='relu',kernel_regularizer=tf.keras.regularizers.l1_l2(l1=1e-5,l2=1e-4))(flatten)\n",
        "  dropout=keras.layers.Dropout(0.5)(Dense1)\n",
        "  classification=keras.layers.Dense(7,activation=\"softmax\",kernel_regularizer=tf.keras.regularizers.l1_l2(l1=1e-5,l2=1e-4))(dropout)\n",
        "  model=keras.models.Model(inputs=base.inputs,outputs=classification)\n",
        "  return model\n"
      ],
      "execution_count": null,
      "outputs": []
    },
    {
      "cell_type": "code",
      "metadata": {
        "id": "Aiu1BIvh1d20"
      },
      "source": [
        "model=create_model()\n"
      ],
      "execution_count": null,
      "outputs": []
    },
    {
      "cell_type": "code",
      "metadata": {
        "id": "J7FHsWJXcRls"
      },
      "source": [
        "flow_model=model"
      ],
      "execution_count": null,
      "outputs": []
    },
    {
      "cell_type": "code",
      "metadata": {
        "id": "LhTO3Clc4UDa",
        "colab": {
          "base_uri": "https://localhost:8080/"
        },
        "outputId": "f8066d7b-5f56-49d5-b654-1d45a4356ec6"
      },
      "source": [
        "flow_model.summary()"
      ],
      "execution_count": null,
      "outputs": [
        {
          "output_type": "stream",
          "text": [
            "Model: \"functional_1\"\n",
            "_________________________________________________________________\n",
            "Layer (type)                 Output Shape              Param #   \n",
            "=================================================================\n",
            "input_1 (InputLayer)         [(None, 224, 224, 3)]     0         \n",
            "_________________________________________________________________\n",
            "conv1_pad (ZeroPadding2D)    (None, 225, 225, 3)       0         \n",
            "_________________________________________________________________\n",
            "conv1 (Conv2D)               (None, 112, 112, 32)      864       \n",
            "_________________________________________________________________\n",
            "conv1_bn (BatchNormalization (None, 112, 112, 32)      128       \n",
            "_________________________________________________________________\n",
            "conv1_relu (ReLU)            (None, 112, 112, 32)      0         \n",
            "_________________________________________________________________\n",
            "conv_dw_1 (DepthwiseConv2D)  (None, 112, 112, 32)      288       \n",
            "_________________________________________________________________\n",
            "conv_dw_1_bn (BatchNormaliza (None, 112, 112, 32)      128       \n",
            "_________________________________________________________________\n",
            "conv_dw_1_relu (ReLU)        (None, 112, 112, 32)      0         \n",
            "_________________________________________________________________\n",
            "conv_pw_1 (Conv2D)           (None, 112, 112, 64)      2048      \n",
            "_________________________________________________________________\n",
            "conv_pw_1_bn (BatchNormaliza (None, 112, 112, 64)      256       \n",
            "_________________________________________________________________\n",
            "conv_pw_1_relu (ReLU)        (None, 112, 112, 64)      0         \n",
            "_________________________________________________________________\n",
            "conv_pad_2 (ZeroPadding2D)   (None, 113, 113, 64)      0         \n",
            "_________________________________________________________________\n",
            "conv_dw_2 (DepthwiseConv2D)  (None, 56, 56, 64)        576       \n",
            "_________________________________________________________________\n",
            "conv_dw_2_bn (BatchNormaliza (None, 56, 56, 64)        256       \n",
            "_________________________________________________________________\n",
            "conv_dw_2_relu (ReLU)        (None, 56, 56, 64)        0         \n",
            "_________________________________________________________________\n",
            "conv_pw_2 (Conv2D)           (None, 56, 56, 128)       8192      \n",
            "_________________________________________________________________\n",
            "conv_pw_2_bn (BatchNormaliza (None, 56, 56, 128)       512       \n",
            "_________________________________________________________________\n",
            "conv_pw_2_relu (ReLU)        (None, 56, 56, 128)       0         \n",
            "_________________________________________________________________\n",
            "conv_dw_3 (DepthwiseConv2D)  (None, 56, 56, 128)       1152      \n",
            "_________________________________________________________________\n",
            "conv_dw_3_bn (BatchNormaliza (None, 56, 56, 128)       512       \n",
            "_________________________________________________________________\n",
            "conv_dw_3_relu (ReLU)        (None, 56, 56, 128)       0         \n",
            "_________________________________________________________________\n",
            "conv_pw_3 (Conv2D)           (None, 56, 56, 128)       16384     \n",
            "_________________________________________________________________\n",
            "conv_pw_3_bn (BatchNormaliza (None, 56, 56, 128)       512       \n",
            "_________________________________________________________________\n",
            "conv_pw_3_relu (ReLU)        (None, 56, 56, 128)       0         \n",
            "_________________________________________________________________\n",
            "conv_pad_4 (ZeroPadding2D)   (None, 57, 57, 128)       0         \n",
            "_________________________________________________________________\n",
            "conv_dw_4 (DepthwiseConv2D)  (None, 28, 28, 128)       1152      \n",
            "_________________________________________________________________\n",
            "conv_dw_4_bn (BatchNormaliza (None, 28, 28, 128)       512       \n",
            "_________________________________________________________________\n",
            "conv_dw_4_relu (ReLU)        (None, 28, 28, 128)       0         \n",
            "_________________________________________________________________\n",
            "conv_pw_4 (Conv2D)           (None, 28, 28, 256)       32768     \n",
            "_________________________________________________________________\n",
            "conv_pw_4_bn (BatchNormaliza (None, 28, 28, 256)       1024      \n",
            "_________________________________________________________________\n",
            "conv_pw_4_relu (ReLU)        (None, 28, 28, 256)       0         \n",
            "_________________________________________________________________\n",
            "conv_dw_5 (DepthwiseConv2D)  (None, 28, 28, 256)       2304      \n",
            "_________________________________________________________________\n",
            "conv_dw_5_bn (BatchNormaliza (None, 28, 28, 256)       1024      \n",
            "_________________________________________________________________\n",
            "conv_dw_5_relu (ReLU)        (None, 28, 28, 256)       0         \n",
            "_________________________________________________________________\n",
            "conv_pw_5 (Conv2D)           (None, 28, 28, 256)       65536     \n",
            "_________________________________________________________________\n",
            "conv_pw_5_bn (BatchNormaliza (None, 28, 28, 256)       1024      \n",
            "_________________________________________________________________\n",
            "conv_pw_5_relu (ReLU)        (None, 28, 28, 256)       0         \n",
            "_________________________________________________________________\n",
            "conv_pad_6 (ZeroPadding2D)   (None, 29, 29, 256)       0         \n",
            "_________________________________________________________________\n",
            "conv_dw_6 (DepthwiseConv2D)  (None, 14, 14, 256)       2304      \n",
            "_________________________________________________________________\n",
            "conv_dw_6_bn (BatchNormaliza (None, 14, 14, 256)       1024      \n",
            "_________________________________________________________________\n",
            "conv_dw_6_relu (ReLU)        (None, 14, 14, 256)       0         \n",
            "_________________________________________________________________\n",
            "conv_pw_6 (Conv2D)           (None, 14, 14, 512)       131072    \n",
            "_________________________________________________________________\n",
            "conv_pw_6_bn (BatchNormaliza (None, 14, 14, 512)       2048      \n",
            "_________________________________________________________________\n",
            "conv_pw_6_relu (ReLU)        (None, 14, 14, 512)       0         \n",
            "_________________________________________________________________\n",
            "conv_dw_7 (DepthwiseConv2D)  (None, 14, 14, 512)       4608      \n",
            "_________________________________________________________________\n",
            "conv_dw_7_bn (BatchNormaliza (None, 14, 14, 512)       2048      \n",
            "_________________________________________________________________\n",
            "conv_dw_7_relu (ReLU)        (None, 14, 14, 512)       0         \n",
            "_________________________________________________________________\n",
            "conv_pw_7 (Conv2D)           (None, 14, 14, 512)       262144    \n",
            "_________________________________________________________________\n",
            "conv_pw_7_bn (BatchNormaliza (None, 14, 14, 512)       2048      \n",
            "_________________________________________________________________\n",
            "conv_pw_7_relu (ReLU)        (None, 14, 14, 512)       0         \n",
            "_________________________________________________________________\n",
            "conv_dw_8 (DepthwiseConv2D)  (None, 14, 14, 512)       4608      \n",
            "_________________________________________________________________\n",
            "conv_dw_8_bn (BatchNormaliza (None, 14, 14, 512)       2048      \n",
            "_________________________________________________________________\n",
            "conv_dw_8_relu (ReLU)        (None, 14, 14, 512)       0         \n",
            "_________________________________________________________________\n",
            "conv_pw_8 (Conv2D)           (None, 14, 14, 512)       262144    \n",
            "_________________________________________________________________\n",
            "conv_pw_8_bn (BatchNormaliza (None, 14, 14, 512)       2048      \n",
            "_________________________________________________________________\n",
            "conv_pw_8_relu (ReLU)        (None, 14, 14, 512)       0         \n",
            "_________________________________________________________________\n",
            "conv_dw_9 (DepthwiseConv2D)  (None, 14, 14, 512)       4608      \n",
            "_________________________________________________________________\n",
            "conv_dw_9_bn (BatchNormaliza (None, 14, 14, 512)       2048      \n",
            "_________________________________________________________________\n",
            "conv_dw_9_relu (ReLU)        (None, 14, 14, 512)       0         \n",
            "_________________________________________________________________\n",
            "conv_pw_9 (Conv2D)           (None, 14, 14, 512)       262144    \n",
            "_________________________________________________________________\n",
            "conv_pw_9_bn (BatchNormaliza (None, 14, 14, 512)       2048      \n",
            "_________________________________________________________________\n",
            "conv_pw_9_relu (ReLU)        (None, 14, 14, 512)       0         \n",
            "_________________________________________________________________\n",
            "conv_dw_10 (DepthwiseConv2D) (None, 14, 14, 512)       4608      \n",
            "_________________________________________________________________\n",
            "conv_dw_10_bn (BatchNormaliz (None, 14, 14, 512)       2048      \n",
            "_________________________________________________________________\n",
            "conv_dw_10_relu (ReLU)       (None, 14, 14, 512)       0         \n",
            "_________________________________________________________________\n",
            "conv_pw_10 (Conv2D)          (None, 14, 14, 512)       262144    \n",
            "_________________________________________________________________\n",
            "conv_pw_10_bn (BatchNormaliz (None, 14, 14, 512)       2048      \n",
            "_________________________________________________________________\n",
            "conv_pw_10_relu (ReLU)       (None, 14, 14, 512)       0         \n",
            "_________________________________________________________________\n",
            "conv_dw_11 (DepthwiseConv2D) (None, 14, 14, 512)       4608      \n",
            "_________________________________________________________________\n",
            "conv_dw_11_bn (BatchNormaliz (None, 14, 14, 512)       2048      \n",
            "_________________________________________________________________\n",
            "conv_dw_11_relu (ReLU)       (None, 14, 14, 512)       0         \n",
            "_________________________________________________________________\n",
            "conv_pw_11 (Conv2D)          (None, 14, 14, 512)       262144    \n",
            "_________________________________________________________________\n",
            "conv_pw_11_bn (BatchNormaliz (None, 14, 14, 512)       2048      \n",
            "_________________________________________________________________\n",
            "conv_pw_11_relu (ReLU)       (None, 14, 14, 512)       0         \n",
            "_________________________________________________________________\n",
            "conv_pad_12 (ZeroPadding2D)  (None, 15, 15, 512)       0         \n",
            "_________________________________________________________________\n",
            "conv_dw_12 (DepthwiseConv2D) (None, 7, 7, 512)         4608      \n",
            "_________________________________________________________________\n",
            "conv_dw_12_bn (BatchNormaliz (None, 7, 7, 512)         2048      \n",
            "_________________________________________________________________\n",
            "conv_dw_12_relu (ReLU)       (None, 7, 7, 512)         0         \n",
            "_________________________________________________________________\n",
            "conv_pw_12 (Conv2D)          (None, 7, 7, 1024)        524288    \n",
            "_________________________________________________________________\n",
            "conv_pw_12_bn (BatchNormaliz (None, 7, 7, 1024)        4096      \n",
            "_________________________________________________________________\n",
            "conv_pw_12_relu (ReLU)       (None, 7, 7, 1024)        0         \n",
            "_________________________________________________________________\n",
            "conv_dw_13 (DepthwiseConv2D) (None, 7, 7, 1024)        9216      \n",
            "_________________________________________________________________\n",
            "conv_dw_13_bn (BatchNormaliz (None, 7, 7, 1024)        4096      \n",
            "_________________________________________________________________\n",
            "conv_dw_13_relu (ReLU)       (None, 7, 7, 1024)        0         \n",
            "_________________________________________________________________\n",
            "conv_pw_13 (Conv2D)          (None, 7, 7, 1024)        1048576   \n",
            "_________________________________________________________________\n",
            "conv_pw_13_bn (BatchNormaliz (None, 7, 7, 1024)        4096      \n",
            "_________________________________________________________________\n",
            "conv_pw_13_relu (ReLU)       (None, 7, 7, 1024)        0         \n",
            "_________________________________________________________________\n",
            "flatten (Flatten)            (None, 50176)             0         \n",
            "_________________________________________________________________\n",
            "dense (Dense)                (None, 1024)              51381248  \n",
            "_________________________________________________________________\n",
            "dropout (Dropout)            (None, 1024)              0         \n",
            "_________________________________________________________________\n",
            "dense_1 (Dense)              (None, 7)                 7175      \n",
            "=================================================================\n",
            "Total params: 54,617,287\n",
            "Trainable params: 52,439,047\n",
            "Non-trainable params: 2,178,240\n",
            "_________________________________________________________________\n"
          ],
          "name": "stdout"
        }
      ]
    },
    {
      "cell_type": "code",
      "metadata": {
        "id": "ZnGI66NtZq2r"
      },
      "source": [
        "for layer in pretrained_model.layers[:84]:\n",
        "    layer.trainable=False"
      ],
      "execution_count": null,
      "outputs": []
    },
    {
      "cell_type": "code",
      "metadata": {
        "id": "0calYtQQ7uBJ",
        "colab": {
          "base_uri": "https://localhost:8080/"
        },
        "outputId": "79860281-cf67-4396-d428-8c9e4a76dc69"
      },
      "source": [
        "for i,layer in enumerate(model.layers):\n",
        "  print(i,layer.name,layer.trainable)"
      ],
      "execution_count": null,
      "outputs": [
        {
          "output_type": "stream",
          "text": [
            "0 input_1 False\n",
            "1 conv1_pad False\n",
            "2 conv1 False\n",
            "3 conv1_bn False\n",
            "4 conv1_relu False\n",
            "5 conv_dw_1 False\n",
            "6 conv_dw_1_bn False\n",
            "7 conv_dw_1_relu False\n",
            "8 conv_pw_1 False\n",
            "9 conv_pw_1_bn False\n",
            "10 conv_pw_1_relu False\n",
            "11 conv_pad_2 False\n",
            "12 conv_dw_2 False\n",
            "13 conv_dw_2_bn False\n",
            "14 conv_dw_2_relu False\n",
            "15 conv_pw_2 False\n",
            "16 conv_pw_2_bn False\n",
            "17 conv_pw_2_relu False\n",
            "18 conv_dw_3 False\n",
            "19 conv_dw_3_bn False\n",
            "20 conv_dw_3_relu False\n",
            "21 conv_pw_3 False\n",
            "22 conv_pw_3_bn False\n",
            "23 conv_pw_3_relu False\n",
            "24 conv_pad_4 False\n",
            "25 conv_dw_4 False\n",
            "26 conv_dw_4_bn False\n",
            "27 conv_dw_4_relu False\n",
            "28 conv_pw_4 False\n",
            "29 conv_pw_4_bn False\n",
            "30 conv_pw_4_relu False\n",
            "31 conv_dw_5 False\n",
            "32 conv_dw_5_bn False\n",
            "33 conv_dw_5_relu False\n",
            "34 conv_pw_5 False\n",
            "35 conv_pw_5_bn False\n",
            "36 conv_pw_5_relu False\n",
            "37 conv_pad_6 False\n",
            "38 conv_dw_6 False\n",
            "39 conv_dw_6_bn False\n",
            "40 conv_dw_6_relu False\n",
            "41 conv_pw_6 False\n",
            "42 conv_pw_6_bn False\n",
            "43 conv_pw_6_relu False\n",
            "44 conv_dw_7 False\n",
            "45 conv_dw_7_bn False\n",
            "46 conv_dw_7_relu False\n",
            "47 conv_pw_7 False\n",
            "48 conv_pw_7_bn False\n",
            "49 conv_pw_7_relu False\n",
            "50 conv_dw_8 False\n",
            "51 conv_dw_8_bn False\n",
            "52 conv_dw_8_relu False\n",
            "53 conv_pw_8 False\n",
            "54 conv_pw_8_bn False\n",
            "55 conv_pw_8_relu False\n",
            "56 conv_dw_9 False\n",
            "57 conv_dw_9_bn False\n",
            "58 conv_dw_9_relu False\n",
            "59 conv_pw_9 False\n",
            "60 conv_pw_9_bn False\n",
            "61 conv_pw_9_relu False\n",
            "62 conv_dw_10 False\n",
            "63 conv_dw_10_bn False\n",
            "64 conv_dw_10_relu False\n",
            "65 conv_pw_10 False\n",
            "66 conv_pw_10_bn False\n",
            "67 conv_pw_10_relu False\n",
            "68 conv_dw_11 False\n",
            "69 conv_dw_11_bn False\n",
            "70 conv_dw_11_relu False\n",
            "71 conv_pw_11 False\n",
            "72 conv_pw_11_bn False\n",
            "73 conv_pw_11_relu False\n",
            "74 conv_pad_12 False\n",
            "75 conv_dw_12 False\n",
            "76 conv_dw_12_bn False\n",
            "77 conv_dw_12_relu False\n",
            "78 conv_pw_12 False\n",
            "79 conv_pw_12_bn False\n",
            "80 conv_pw_12_relu False\n",
            "81 conv_dw_13 False\n",
            "82 conv_dw_13_bn False\n",
            "83 conv_dw_13_relu False\n",
            "84 conv_pw_13 True\n",
            "85 conv_pw_13_bn True\n",
            "86 conv_pw_13_relu True\n",
            "87 flatten True\n",
            "88 dense True\n",
            "89 dropout True\n",
            "90 dense_1 True\n"
          ],
          "name": "stdout"
        }
      ]
    },
    {
      "cell_type": "code",
      "metadata": {
        "id": "L_zjA3Hc5zOr"
      },
      "source": [
        "def scheduler(epoch, lr):\n",
        "  if epoch<10:\n",
        "    return lr \n",
        "  else:\n",
        "    return lr*tf.math.exp(-0.1)"
      ],
      "execution_count": null,
      "outputs": []
    },
    {
      "cell_type": "code",
      "metadata": {
        "id": "PAybyrq5SKF9"
      },
      "source": [
        "keras.backend.clear_session()\n",
        "top5acc=functools.partial(keras.metrics.top_k_categorical_accuracy,k=5)\n",
        "top5acc.__name__=\"top5acc\"\n",
        "top1acc=functools.partial(keras.metrics.top_k_categorical_accuracy,k=1)\n",
        "top1acc.__name__=\"top1acc\"\n",
        "flow_model.compile(loss='categorical_crossentropy',optimizer=keras.optimizers.SGD(learning_rate=1e-3,momentum=0.9,decay=1e-3/30),metrics=[top5acc,top1acc])\n",
        "#last_model.compile(loss='categorical_crossentropy',optimizer=keras.optimizers.SGD(learning_rate=1e-3,momentum=0.9,decay=1e-3/30),metrics=[top5acc,top1acc])\n"
      ],
      "execution_count": null,
      "outputs": []
    },
    {
      "cell_type": "code",
      "metadata": {
        "id": "R0nvh3PoCMd_"
      },
      "source": [
        "from tensorflow.keras.callbacks import ReduceLROnPlateau,EarlyStopping\n",
        "sched = tf.keras.callbacks.LearningRateScheduler(scheduler)\n",
        "checkpoint=keras.callbacks.ModelCheckpoint(\n",
        "        filepath='finetune_mobilenet_dense.{epoch:02d}-{val_loss:.2f}.h5',\n",
        "        monitor='val_loss', save_best_only=True)\n",
        "earlystopping=keras.callbacks.EarlyStopping(min_delta=0.1,patience=10,restore_best_weights=True)\n",
        "callbacks=[earlystopping,ReduceLROnPlateau(),sched]"
      ],
      "execution_count": null,
      "outputs": []
    },
    {
      "cell_type": "code",
      "metadata": {
        "id": "Zi3m4Qnkeqkf",
        "colab": {
          "base_uri": "https://localhost:8080/"
        },
        "outputId": "4bfad40a-9bde-4cd1-ad6e-9ce09fcdb5ea"
      },
      "source": [
        "tf.random.set_seed(0)\n",
        "history=flow_model.fit(train_dense_batch,validation_data=valid_dense_batch1,steps_per_epoch=1000,validation_steps=3000//16,epochs=30,workers=16,verbose=1,callbacks=callbacks)"
      ],
      "execution_count": null,
      "outputs": [
        {
          "output_type": "stream",
          "text": [
            "Epoch 1/30\n",
            "1000/1000 [==============================] - 113s 113ms/step - loss: 3.3838 - top5acc: 0.9955 - top1acc: 0.9250 - val_loss: 5.3132 - val_top5acc: 0.9782 - val_top1acc: 0.5959\n",
            "Epoch 2/30\n",
            "1000/1000 [==============================] - 112s 112ms/step - loss: 2.9739 - top5acc: 0.9998 - top1acc: 0.9869 - val_loss: 5.3204 - val_top5acc: 0.9756 - val_top1acc: 0.6284\n",
            "Epoch 3/30\n",
            "1000/1000 [==============================] - 112s 112ms/step - loss: 2.8999 - top5acc: 0.9997 - top1acc: 0.9924 - val_loss: 5.6723 - val_top5acc: 0.9615 - val_top1acc: 0.5926\n",
            "Epoch 4/30\n",
            "  70/1000 [=>............................] - ETA: 1:32 - loss: 2.8710 - top5acc: 1.0000 - top1acc: 0.9920"
          ],
          "name": "stdout"
        }
      ]
    },
    {
      "cell_type": "code",
      "metadata": {
        "id": "7fMkHs6hS04q",
        "colab": {
          "base_uri": "https://localhost:8080/",
          "height": 300
        },
        "outputId": "43883cbd-5095-445c-b514-b3a3889aa5d0"
      },
      "source": [
        "import matplotlib.pyplot as plt\n",
        "\n",
        "plt.style.use('ggplot')\n",
        "plt.plot(history.history['top1acc'],label='accuracy')\n",
        "plt.plot(history.history['val_top1acc'],label='valid-accuracy')\n",
        "plt.legend()\n",
        "plt.xlabel(\"epochs\")\n",
        "plt.ylabel(\"accuracy\")\n"
      ],
      "execution_count": null,
      "outputs": [
        {
          "output_type": "execute_result",
          "data": {
            "text/plain": [
              "Text(0, 0.5, 'accuracy')"
            ]
          },
          "metadata": {
            "tags": []
          },
          "execution_count": 42
        },
        {
          "output_type": "display_data",
          "data": {
            "image/png": "[encoded data removed]",
            "text/plain": [
              "<Figure size 432x288 with 1 Axes>"
            ]
          },
          "metadata": {
            "tags": []
          }
        }
      ]
    },
    {
      "cell_type": "code",
      "metadata": {
        "id": "kQUq0cyFnzz6",
        "colab": {
          "base_uri": "https://localhost:8080/",
          "height": 302
        },
        "outputId": "29181f3f-88de-4f8e-eebd-48a78180a151"
      },
      "source": [
        "import matplotlib.pyplot as plt\n",
        "plt.style.use('ggplot')\n",
        "plt.plot(history.history['loss'],label='loss')\n",
        "plt.plot(history.history['val_loss'],label='valid-loss')\n",
        "plt.legend()\n",
        "plt.xlabel(\"number of epochs\")\n",
        "plt.ylabel(\"loss\")\n"
      ],
      "execution_count": null,
      "outputs": [
        {
          "output_type": "execute_result",
          "data": {
            "text/plain": [
              "Text(0, 0.5, 'loss')"
            ]
          },
          "metadata": {
            "tags": []
          },
          "execution_count": 50
        },
        {
          "output_type": "display_data",
          "data": {
            "image/png": "[encoded data removed]",
            "text/plain": [
              "<Figure size 432x288 with 1 Axes>"
            ]
          },
          "metadata": {
            "tags": []
          }
        }
      ]
    },
    {
      "cell_type": "code",
      "metadata": {
        "id": "Ig2qtA9LlJMw",
        "colab": {
          "base_uri": "https://localhost:8080/",
          "height": 52
        },
        "outputId": "9e075c9e-a09e-4b4b-b0bb-daff560258c8"
      },
      "source": [
        "RGB_model.evaluate(test_batch,workers=16)"
      ],
      "execution_count": null,
      "outputs": [
        {
          "output_type": "stream",
          "text": [
            "131/131 [==============================] - 93s 707ms/step - loss: 2.8307 - top5acc: 1.0000 - top1acc: 0.8436\n"
          ],
          "name": "stdout"
        },
        {
          "output_type": "execute_result",
          "data": {
            "text/plain": [
              "[2.8306870460510254, 1.0, 0.8436154723167419]"
            ]
          },
          "metadata": {
            "tags": []
          },
          "execution_count": 76
        }
      ]
    },
    {
      "cell_type": "code",
      "metadata": {
        "id": "extMNSfiC_i7",
        "colab": {
          "base_uri": "https://localhost:8080/",
          "height": 52
        },
        "outputId": "9973d69d-d280-4ad8-ab4e-6063b91e4e17"
      },
      "source": [
        "flow_model.evaluate(valid_dense_batch1,steps=500,workers=16)"
      ],
      "execution_count": null,
      "outputs": [
        {
          "output_type": "stream",
          "text": [
            "500/500 [==============================] - 13s 27ms/step - loss: 4.5887 - top5acc: 0.9465 - top1acc: 0.6187\n"
          ],
          "name": "stdout"
        },
        {
          "output_type": "execute_result",
          "data": {
            "text/plain": [
              "[4.588708877563477, 0.9464912414550781, 0.6186716556549072]"
            ]
          },
          "metadata": {
            "tags": []
          },
          "execution_count": 107
        }
      ]
    },
    {
      "cell_type": "code",
      "metadata": {
        "id": "3XxPAKwHDXa1"
      },
      "source": [
        "flow_model.save(\"flowucfmobilenet.h5\")"
      ],
      "execution_count": null,
      "outputs": []
    },
    {
      "cell_type": "code",
      "metadata": {
        "id": "AMrlPH7eoL33"
      },
      "source": [
        "!cp \"/content/flowucfmobilenet.h5\"  \"/content/drive/My Drive/nets/\""
      ],
      "execution_count": null,
      "outputs": []
    },
    {
      "cell_type": "code",
      "metadata": {
        "id": "l6KBGDlnlR_-"
      },
      "source": [
        "RGB_model.evaluate(valid_RGB_batch1,steps=500,workers=8)"
      ],
      "execution_count": null,
      "outputs": []
    },
    {
      "cell_type": "code",
      "metadata": {
        "id": "dUzK85FKTCQQ"
      },
      "source": [
        "RGB_model.save(\"RGBucfmobilenet.h5\")"
      ],
      "execution_count": null,
      "outputs": []
    },
    {
      "cell_type": "code",
      "metadata": {
        "id": "Mm-79NIp76p-",
        "colab": {
          "base_uri": "https://localhost:8080/",
          "height": 739
        },
        "outputId": "961b9823-89e9-4b6e-89c5-22e0e390aa39"
      },
      "source": [
        "tf.random.set_seed(0)\n",
        "history3=Rgb_model.fit(train_RGB_batch,verbose=1,epochs=50,validation_data=valid_RGB_batch1,callbacks=callbacks,workers=16)\n"
      ],
      "execution_count": null,
      "outputs": [
        {
          "output_type": "stream",
          "text": [
            "Epoch 1/50\n",
            "245/245 [==============================] - 378s 2s/step - loss: 2.6298 - top5acc: 0.7825 - top1acc: 0.1942 - val_loss: 1.8200 - val_top5acc: 0.9289 - val_top1acc: 0.2030\n",
            "Epoch 2/50\n",
            "245/245 [==============================] - 53s 217ms/step - loss: 1.8284 - top5acc: 0.8376 - top1acc: 0.2529 - val_loss: 1.8280 - val_top5acc: 0.8931 - val_top1acc: 0.2526\n",
            "Epoch 3/50\n",
            "245/245 [==============================] - 54s 218ms/step - loss: 1.8615 - top5acc: 0.8403 - top1acc: 0.2060 - val_loss: 1.8226 - val_top5acc: 0.9131 - val_top1acc: 0.1963\n",
            "Epoch 4/50\n",
            "245/245 [==============================] - 53s 218ms/step - loss: 1.8210 - top5acc: 0.8500 - top1acc: 0.2327 - val_loss: 1.8415 - val_top5acc: 0.8338 - val_top1acc: 0.2147\n",
            "Epoch 5/50\n",
            "245/245 [==============================] - 53s 218ms/step - loss: 1.7779 - top5acc: 0.8626 - top1acc: 0.2501 - val_loss: 1.8597 - val_top5acc: 0.8083 - val_top1acc: 0.1820\n",
            "Epoch 6/50\n",
            "245/245 [==============================] - 98s 399ms/step - loss: 1.8975 - top5acc: 0.7940 - top1acc: 0.2057 - val_loss: 1.7978 - val_top5acc: 0.9371 - val_top1acc: 0.2975\n",
            "Epoch 7/50\n",
            "245/245 [==============================] - 54s 219ms/step - loss: 1.9274 - top5acc: 0.7499 - top1acc: 0.1710 - val_loss: 1.9447 - val_top5acc: 0.7474 - val_top1acc: 0.1585\n",
            "Epoch 8/50\n",
            "245/245 [==============================] - 53s 218ms/step - loss: 1.9301 - top5acc: 0.7830 - top1acc: 0.1694 - val_loss: 1.8647 - val_top5acc: 0.7817 - val_top1acc: 0.2040\n",
            "Epoch 9/50\n",
            "245/245 [==============================] - 54s 221ms/step - loss: 1.8865 - top5acc: 0.8238 - top1acc: 0.2059 - val_loss: 1.9467 - val_top5acc: 0.7474 - val_top1acc: 0.1585\n",
            "Epoch 10/50\n",
            "245/245 [==============================] - 56s 230ms/step - loss: 1.9450 - top5acc: 0.7462 - top1acc: 0.1577 - val_loss: 1.9440 - val_top5acc: 0.7474 - val_top1acc: 0.1585\n",
            "Epoch 11/50\n",
            "184/245 [=====================>........] - ETA: 12s - loss: 1.9419 - top5acc: 0.7521 - top1acc: 0.1622"
          ],
          "name": "stdout"
        },
        {
          "output_type": "error",
          "ename": "KeyboardInterrupt",
          "evalue": "ignored",
          "traceback": [
            "\u001b[0;31m---------------------------------------------------------------------------\u001b[0m",
            "\u001b[0;31mKeyboardInterrupt\u001b[0m                         Traceback (most recent call last)",
            "\u001b[0;32m<ipython-input-21-59485d188f1f>\u001b[0m in \u001b[0;36m<module>\u001b[0;34m()\u001b[0m\n\u001b[1;32m      1\u001b[0m \u001b[0mtf\u001b[0m\u001b[0;34m.\u001b[0m\u001b[0mrandom\u001b[0m\u001b[0;34m.\u001b[0m\u001b[0mset_seed\u001b[0m\u001b[0;34m(\u001b[0m\u001b[0;36m0\u001b[0m\u001b[0;34m)\u001b[0m\u001b[0;34m\u001b[0m\u001b[0;34m\u001b[0m\u001b[0m\n\u001b[0;32m----> 2\u001b[0;31m \u001b[0mhistory3\u001b[0m\u001b[0;34m=\u001b[0m\u001b[0mRgb_model\u001b[0m\u001b[0;34m.\u001b[0m\u001b[0mfit\u001b[0m\u001b[0;34m(\u001b[0m\u001b[0mtrain_RGB_batch\u001b[0m\u001b[0;34m,\u001b[0m\u001b[0mverbose\u001b[0m\u001b[0;34m=\u001b[0m\u001b[0;36m1\u001b[0m\u001b[0;34m,\u001b[0m\u001b[0mepochs\u001b[0m\u001b[0;34m=\u001b[0m\u001b[0;36m50\u001b[0m\u001b[0;34m,\u001b[0m\u001b[0mvalidation_data\u001b[0m\u001b[0;34m=\u001b[0m\u001b[0mvalid_RGB_batch1\u001b[0m\u001b[0;34m,\u001b[0m\u001b[0mcallbacks\u001b[0m\u001b[0;34m=\u001b[0m\u001b[0mcallbacks\u001b[0m\u001b[0;34m,\u001b[0m\u001b[0mworkers\u001b[0m\u001b[0;34m=\u001b[0m\u001b[0;36m16\u001b[0m\u001b[0;34m)\u001b[0m\u001b[0;34m\u001b[0m\u001b[0;34m\u001b[0m\u001b[0m\n\u001b[0m",
            "\u001b[0;32m/usr/local/lib/python3.6/dist-packages/tensorflow/python/keras/engine/training.py\u001b[0m in \u001b[0;36m_method_wrapper\u001b[0;34m(self, *args, **kwargs)\u001b[0m\n\u001b[1;32m    106\u001b[0m   \u001b[0;32mdef\u001b[0m \u001b[0m_method_wrapper\u001b[0m\u001b[0;34m(\u001b[0m\u001b[0mself\u001b[0m\u001b[0;34m,\u001b[0m \u001b[0;34m*\u001b[0m\u001b[0margs\u001b[0m\u001b[0;34m,\u001b[0m \u001b[0;34m**\u001b[0m\u001b[0mkwargs\u001b[0m\u001b[0;34m)\u001b[0m\u001b[0;34m:\u001b[0m\u001b[0;34m\u001b[0m\u001b[0;34m\u001b[0m\u001b[0m\n\u001b[1;32m    107\u001b[0m     \u001b[0;32mif\u001b[0m \u001b[0;32mnot\u001b[0m \u001b[0mself\u001b[0m\u001b[0;34m.\u001b[0m\u001b[0m_in_multi_worker_mode\u001b[0m\u001b[0;34m(\u001b[0m\u001b[0;34m)\u001b[0m\u001b[0;34m:\u001b[0m  \u001b[0;31m# pylint: disable=protected-access\u001b[0m\u001b[0;34m\u001b[0m\u001b[0;34m\u001b[0m\u001b[0m\n\u001b[0;32m--> 108\u001b[0;31m       \u001b[0;32mreturn\u001b[0m \u001b[0mmethod\u001b[0m\u001b[0;34m(\u001b[0m\u001b[0mself\u001b[0m\u001b[0;34m,\u001b[0m \u001b[0;34m*\u001b[0m\u001b[0margs\u001b[0m\u001b[0;34m,\u001b[0m \u001b[0;34m**\u001b[0m\u001b[0mkwargs\u001b[0m\u001b[0;34m)\u001b[0m\u001b[0;34m\u001b[0m\u001b[0;34m\u001b[0m\u001b[0m\n\u001b[0m\u001b[1;32m    109\u001b[0m \u001b[0;34m\u001b[0m\u001b[0m\n\u001b[1;32m    110\u001b[0m     \u001b[0;31m# Running inside `run_distribute_coordinator` already.\u001b[0m\u001b[0;34m\u001b[0m\u001b[0;34m\u001b[0m\u001b[0;34m\u001b[0m\u001b[0m\n",
            "\u001b[0;32m/usr/local/lib/python3.6/dist-packages/tensorflow/python/keras/engine/training.py\u001b[0m in \u001b[0;36mfit\u001b[0;34m(self, x, y, batch_size, epochs, verbose, callbacks, validation_split, validation_data, shuffle, class_weight, sample_weight, initial_epoch, steps_per_epoch, validation_steps, validation_batch_size, validation_freq, max_queue_size, workers, use_multiprocessing)\u001b[0m\n\u001b[1;32m   1096\u001b[0m                 batch_size=batch_size):\n\u001b[1;32m   1097\u001b[0m               \u001b[0mcallbacks\u001b[0m\u001b[0;34m.\u001b[0m\u001b[0mon_train_batch_begin\u001b[0m\u001b[0;34m(\u001b[0m\u001b[0mstep\u001b[0m\u001b[0;34m)\u001b[0m\u001b[0;34m\u001b[0m\u001b[0;34m\u001b[0m\u001b[0m\n\u001b[0;32m-> 1098\u001b[0;31m               \u001b[0mtmp_logs\u001b[0m \u001b[0;34m=\u001b[0m \u001b[0mtrain_function\u001b[0m\u001b[0;34m(\u001b[0m\u001b[0miterator\u001b[0m\u001b[0;34m)\u001b[0m\u001b[0;34m\u001b[0m\u001b[0;34m\u001b[0m\u001b[0m\n\u001b[0m\u001b[1;32m   1099\u001b[0m               \u001b[0;32mif\u001b[0m \u001b[0mdata_handler\u001b[0m\u001b[0;34m.\u001b[0m\u001b[0mshould_sync\u001b[0m\u001b[0;34m:\u001b[0m\u001b[0;34m\u001b[0m\u001b[0;34m\u001b[0m\u001b[0m\n\u001b[1;32m   1100\u001b[0m                 \u001b[0mcontext\u001b[0m\u001b[0;34m.\u001b[0m\u001b[0masync_wait\u001b[0m\u001b[0;34m(\u001b[0m\u001b[0;34m)\u001b[0m\u001b[0;34m\u001b[0m\u001b[0;34m\u001b[0m\u001b[0m\n",
            "\u001b[0;32m/usr/local/lib/python3.6/dist-packages/tensorflow/python/eager/def_function.py\u001b[0m in \u001b[0;36m__call__\u001b[0;34m(self, *args, **kwds)\u001b[0m\n\u001b[1;32m    778\u001b[0m       \u001b[0;32melse\u001b[0m\u001b[0;34m:\u001b[0m\u001b[0;34m\u001b[0m\u001b[0;34m\u001b[0m\u001b[0m\n\u001b[1;32m    779\u001b[0m         \u001b[0mcompiler\u001b[0m \u001b[0;34m=\u001b[0m \u001b[0;34m\"nonXla\"\u001b[0m\u001b[0;34m\u001b[0m\u001b[0;34m\u001b[0m\u001b[0m\n\u001b[0;32m--> 780\u001b[0;31m         \u001b[0mresult\u001b[0m \u001b[0;34m=\u001b[0m \u001b[0mself\u001b[0m\u001b[0;34m.\u001b[0m\u001b[0m_call\u001b[0m\u001b[0;34m(\u001b[0m\u001b[0;34m*\u001b[0m\u001b[0margs\u001b[0m\u001b[0;34m,\u001b[0m \u001b[0;34m**\u001b[0m\u001b[0mkwds\u001b[0m\u001b[0;34m)\u001b[0m\u001b[0;34m\u001b[0m\u001b[0;34m\u001b[0m\u001b[0m\n\u001b[0m\u001b[1;32m    781\u001b[0m \u001b[0;34m\u001b[0m\u001b[0m\n\u001b[1;32m    782\u001b[0m       \u001b[0mnew_tracing_count\u001b[0m \u001b[0;34m=\u001b[0m \u001b[0mself\u001b[0m\u001b[0;34m.\u001b[0m\u001b[0m_get_tracing_count\u001b[0m\u001b[0;34m(\u001b[0m\u001b[0;34m)\u001b[0m\u001b[0;34m\u001b[0m\u001b[0;34m\u001b[0m\u001b[0m\n",
            "\u001b[0;32m/usr/local/lib/python3.6/dist-packages/tensorflow/python/eager/def_function.py\u001b[0m in \u001b[0;36m_call\u001b[0;34m(self, *args, **kwds)\u001b[0m\n\u001b[1;32m    805\u001b[0m       \u001b[0;31m# In this case we have created variables on the first call, so we run the\u001b[0m\u001b[0;34m\u001b[0m\u001b[0;34m\u001b[0m\u001b[0;34m\u001b[0m\u001b[0m\n\u001b[1;32m    806\u001b[0m       \u001b[0;31m# defunned version which is guaranteed to never create variables.\u001b[0m\u001b[0;34m\u001b[0m\u001b[0;34m\u001b[0m\u001b[0;34m\u001b[0m\u001b[0m\n\u001b[0;32m--> 807\u001b[0;31m       \u001b[0;32mreturn\u001b[0m \u001b[0mself\u001b[0m\u001b[0;34m.\u001b[0m\u001b[0m_stateless_fn\u001b[0m\u001b[0;34m(\u001b[0m\u001b[0;34m*\u001b[0m\u001b[0margs\u001b[0m\u001b[0;34m,\u001b[0m \u001b[0;34m**\u001b[0m\u001b[0mkwds\u001b[0m\u001b[0;34m)\u001b[0m  \u001b[0;31m# pylint: disable=not-callable\u001b[0m\u001b[0;34m\u001b[0m\u001b[0;34m\u001b[0m\u001b[0m\n\u001b[0m\u001b[1;32m    808\u001b[0m     \u001b[0;32melif\u001b[0m \u001b[0mself\u001b[0m\u001b[0;34m.\u001b[0m\u001b[0m_stateful_fn\u001b[0m \u001b[0;32mis\u001b[0m \u001b[0;32mnot\u001b[0m \u001b[0;32mNone\u001b[0m\u001b[0;34m:\u001b[0m\u001b[0;34m\u001b[0m\u001b[0;34m\u001b[0m\u001b[0m\n\u001b[1;32m    809\u001b[0m       \u001b[0;31m# Release the lock early so that multiple threads can perform the call\u001b[0m\u001b[0;34m\u001b[0m\u001b[0;34m\u001b[0m\u001b[0;34m\u001b[0m\u001b[0m\n",
            "\u001b[0;32m/usr/local/lib/python3.6/dist-packages/tensorflow/python/eager/function.py\u001b[0m in \u001b[0;36m__call__\u001b[0;34m(self, *args, **kwargs)\u001b[0m\n\u001b[1;32m   2827\u001b[0m     \u001b[0;32mwith\u001b[0m \u001b[0mself\u001b[0m\u001b[0;34m.\u001b[0m\u001b[0m_lock\u001b[0m\u001b[0;34m:\u001b[0m\u001b[0;34m\u001b[0m\u001b[0;34m\u001b[0m\u001b[0m\n\u001b[1;32m   2828\u001b[0m       \u001b[0mgraph_function\u001b[0m\u001b[0;34m,\u001b[0m \u001b[0margs\u001b[0m\u001b[0;34m,\u001b[0m \u001b[0mkwargs\u001b[0m \u001b[0;34m=\u001b[0m \u001b[0mself\u001b[0m\u001b[0;34m.\u001b[0m\u001b[0m_maybe_define_function\u001b[0m\u001b[0;34m(\u001b[0m\u001b[0margs\u001b[0m\u001b[0;34m,\u001b[0m \u001b[0mkwargs\u001b[0m\u001b[0;34m)\u001b[0m\u001b[0;34m\u001b[0m\u001b[0;34m\u001b[0m\u001b[0m\n\u001b[0;32m-> 2829\u001b[0;31m     \u001b[0;32mreturn\u001b[0m \u001b[0mgraph_function\u001b[0m\u001b[0;34m.\u001b[0m\u001b[0m_filtered_call\u001b[0m\u001b[0;34m(\u001b[0m\u001b[0margs\u001b[0m\u001b[0;34m,\u001b[0m \u001b[0mkwargs\u001b[0m\u001b[0;34m)\u001b[0m  \u001b[0;31m# pylint: disable=protected-access\u001b[0m\u001b[0;34m\u001b[0m\u001b[0;34m\u001b[0m\u001b[0m\n\u001b[0m\u001b[1;32m   2830\u001b[0m \u001b[0;34m\u001b[0m\u001b[0m\n\u001b[1;32m   2831\u001b[0m   \u001b[0;34m@\u001b[0m\u001b[0mproperty\u001b[0m\u001b[0;34m\u001b[0m\u001b[0;34m\u001b[0m\u001b[0m\n",
            "\u001b[0;32m/usr/local/lib/python3.6/dist-packages/tensorflow/python/eager/function.py\u001b[0m in \u001b[0;36m_filtered_call\u001b[0;34m(self, args, kwargs, cancellation_manager)\u001b[0m\n\u001b[1;32m   1846\u001b[0m                            resource_variable_ops.BaseResourceVariable))],\n\u001b[1;32m   1847\u001b[0m         \u001b[0mcaptured_inputs\u001b[0m\u001b[0;34m=\u001b[0m\u001b[0mself\u001b[0m\u001b[0;34m.\u001b[0m\u001b[0mcaptured_inputs\u001b[0m\u001b[0;34m,\u001b[0m\u001b[0;34m\u001b[0m\u001b[0;34m\u001b[0m\u001b[0m\n\u001b[0;32m-> 1848\u001b[0;31m         cancellation_manager=cancellation_manager)\n\u001b[0m\u001b[1;32m   1849\u001b[0m \u001b[0;34m\u001b[0m\u001b[0m\n\u001b[1;32m   1850\u001b[0m   \u001b[0;32mdef\u001b[0m \u001b[0m_call_flat\u001b[0m\u001b[0;34m(\u001b[0m\u001b[0mself\u001b[0m\u001b[0;34m,\u001b[0m \u001b[0margs\u001b[0m\u001b[0;34m,\u001b[0m \u001b[0mcaptured_inputs\u001b[0m\u001b[0;34m,\u001b[0m \u001b[0mcancellation_manager\u001b[0m\u001b[0;34m=\u001b[0m\u001b[0;32mNone\u001b[0m\u001b[0;34m)\u001b[0m\u001b[0;34m:\u001b[0m\u001b[0;34m\u001b[0m\u001b[0;34m\u001b[0m\u001b[0m\n",
            "\u001b[0;32m/usr/local/lib/python3.6/dist-packages/tensorflow/python/eager/function.py\u001b[0m in \u001b[0;36m_call_flat\u001b[0;34m(self, args, captured_inputs, cancellation_manager)\u001b[0m\n\u001b[1;32m   1922\u001b[0m       \u001b[0;31m# No tape is watching; skip to running the function.\u001b[0m\u001b[0;34m\u001b[0m\u001b[0;34m\u001b[0m\u001b[0;34m\u001b[0m\u001b[0m\n\u001b[1;32m   1923\u001b[0m       return self._build_call_outputs(self._inference_function.call(\n\u001b[0;32m-> 1924\u001b[0;31m           ctx, args, cancellation_manager=cancellation_manager))\n\u001b[0m\u001b[1;32m   1925\u001b[0m     forward_backward = self._select_forward_and_backward_functions(\n\u001b[1;32m   1926\u001b[0m         \u001b[0margs\u001b[0m\u001b[0;34m,\u001b[0m\u001b[0;34m\u001b[0m\u001b[0;34m\u001b[0m\u001b[0m\n",
            "\u001b[0;32m/usr/local/lib/python3.6/dist-packages/tensorflow/python/eager/function.py\u001b[0m in \u001b[0;36mcall\u001b[0;34m(self, ctx, args, cancellation_manager)\u001b[0m\n\u001b[1;32m    548\u001b[0m               \u001b[0minputs\u001b[0m\u001b[0;34m=\u001b[0m\u001b[0margs\u001b[0m\u001b[0;34m,\u001b[0m\u001b[0;34m\u001b[0m\u001b[0;34m\u001b[0m\u001b[0m\n\u001b[1;32m    549\u001b[0m               \u001b[0mattrs\u001b[0m\u001b[0;34m=\u001b[0m\u001b[0mattrs\u001b[0m\u001b[0;34m,\u001b[0m\u001b[0;34m\u001b[0m\u001b[0;34m\u001b[0m\u001b[0m\n\u001b[0;32m--> 550\u001b[0;31m               ctx=ctx)\n\u001b[0m\u001b[1;32m    551\u001b[0m         \u001b[0;32melse\u001b[0m\u001b[0;34m:\u001b[0m\u001b[0;34m\u001b[0m\u001b[0;34m\u001b[0m\u001b[0m\n\u001b[1;32m    552\u001b[0m           outputs = execute.execute_with_cancellation(\n",
            "\u001b[0;32m/usr/local/lib/python3.6/dist-packages/tensorflow/python/eager/execute.py\u001b[0m in \u001b[0;36mquick_execute\u001b[0;34m(op_name, num_outputs, inputs, attrs, ctx, name)\u001b[0m\n\u001b[1;32m     58\u001b[0m     \u001b[0mctx\u001b[0m\u001b[0;34m.\u001b[0m\u001b[0mensure_initialized\u001b[0m\u001b[0;34m(\u001b[0m\u001b[0;34m)\u001b[0m\u001b[0;34m\u001b[0m\u001b[0;34m\u001b[0m\u001b[0m\n\u001b[1;32m     59\u001b[0m     tensors = pywrap_tfe.TFE_Py_Execute(ctx._handle, device_name, op_name,\n\u001b[0;32m---> 60\u001b[0;31m                                         inputs, attrs, num_outputs)\n\u001b[0m\u001b[1;32m     61\u001b[0m   \u001b[0;32mexcept\u001b[0m \u001b[0mcore\u001b[0m\u001b[0;34m.\u001b[0m\u001b[0m_NotOkStatusException\u001b[0m \u001b[0;32mas\u001b[0m \u001b[0me\u001b[0m\u001b[0;34m:\u001b[0m\u001b[0;34m\u001b[0m\u001b[0;34m\u001b[0m\u001b[0m\n\u001b[1;32m     62\u001b[0m     \u001b[0;32mif\u001b[0m \u001b[0mname\u001b[0m \u001b[0;32mis\u001b[0m \u001b[0;32mnot\u001b[0m \u001b[0;32mNone\u001b[0m\u001b[0;34m:\u001b[0m\u001b[0;34m\u001b[0m\u001b[0;34m\u001b[0m\u001b[0m\n",
            "\u001b[0;31mKeyboardInterrupt\u001b[0m: "
          ]
        }
      ]
    },
    {
      "cell_type": "code",
      "metadata": {
        "id": "svPqR5yO_JNA",
        "colab": {
          "base_uri": "https://localhost:8080/",
          "height": 300
        },
        "outputId": "d1f0e43e-b11a-4de4-f619-9d3ad5ff8de3"
      },
      "source": [
        "import matplotlib.pyplot as plt\n",
        "\n",
        "plt.style.use('ggplot')\n",
        "plt.plot(history3.history['top1acc'],label='top1acc')\n",
        "plt.plot(history3.history['val_top1acc'],label='top1acc')\n",
        "plt.legend()\n",
        "plt.xlabel(\"number of epochs\")\n",
        "plt.ylabel(\"percent\")\n"
      ],
      "execution_count": null,
      "outputs": [
        {
          "output_type": "execute_result",
          "data": {
            "text/plain": [
              "Text(0, 0.5, 'percent')"
            ]
          },
          "metadata": {
            "tags": []
          },
          "execution_count": 24
        },
        {
          "output_type": "display_data",
          "data": {
            "image/png": "[encoded data removed]",
            "text/plain": [
              "<Figure size 432x288 with 1 Axes>"
            ]
          },
          "metadata": {
            "tags": []
          }
        }
      ]
    },
    {
      "cell_type": "code",
      "metadata": {
        "id": "vPwummkqxZqS",
        "colab": {
          "base_uri": "https://localhost:8080/",
          "height": 300
        },
        "outputId": "26f21ca3-83b4-45f6-c4a7-68a8bb3c11f2"
      },
      "source": [
        "plt.style.use('ggplot')\n",
        "plt.plot(history3.history['loss'],label='loss')\n",
        "plt.plot(history3.history['val_loss'],label='valid-loss')\n",
        "plt.legend()\n",
        "plt.xlabel(\"number of epochs\")\n",
        "plt.ylabel(\"percent\")\n"
      ],
      "execution_count": null,
      "outputs": [
        {
          "output_type": "execute_result",
          "data": {
            "text/plain": [
              "Text(0, 0.5, 'percent')"
            ]
          },
          "metadata": {
            "tags": []
          },
          "execution_count": 25
        },
        {
          "output_type": "display_data",
          "data": {
            "image/png": "[encoded data removed]",
            "text/plain": [
              "<Figure size 432x288 with 1 Axes>"
            ]
          },
          "metadata": {
            "tags": []
          }
        }
      ]
    },
    {
      "cell_type": "code",
      "metadata": {
        "id": "EciLW_Zy_udH",
        "colab": {
          "base_uri": "https://localhost:8080/",
          "height": 299
        },
        "outputId": "46cacf2a-a7dc-4f8c-af80-855e71763cb7"
      },
      "source": [
        "import matplotlib.pyplot as plt\n",
        "plt.style.use('ggplot')\n",
        "plt.plot(history3.history['accuracy'],label='accuracy')\n",
        "plt.plot(history3.history['val_accuracy'],label='valid_accuracy')\n",
        "plt.legend()\n",
        "plt.xlabel(\"number of epochs\")\n",
        "plt.ylabel(\" accuracypercent\")\n"
      ],
      "execution_count": null,
      "outputs": [
        {
          "output_type": "execute_result",
          "data": {
            "text/plain": [
              "Text(0, 0.5, ' accuracypercent')"
            ]
          },
          "metadata": {
            "tags": []
          },
          "execution_count": 18
        },
        {
          "output_type": "display_data",
          "data": {
            "image/png": "[encoded data removed]",
            "text/plain": [
              "<Figure size 432x288 with 1 Axes>"
            ]
          },
          "metadata": {
            "tags": []
          }
        }
      ]
    },
    {
      "cell_type": "code",
      "metadata": {
        "id": "Bu4HLiMjYnOm",
        "colab": {
          "base_uri": "https://localhost:8080/",
          "height": 299
        },
        "outputId": "771c1815-a64c-472f-a655-fefbf26534d5"
      },
      "source": [
        "import matplotlib.pyplot as plt\n",
        "plt.style.use('ggplot')\n",
        "plt.plot(history3.history['loss'],label='loss')\n",
        "plt.plot(history3.history['val_loss'],label='val_loss')\n",
        "plt.legend()\n",
        "plt.xlabel(\"number of epochs\")\n",
        "plt.ylabel(\" loss\")"
      ],
      "execution_count": null,
      "outputs": [
        {
          "output_type": "execute_result",
          "data": {
            "text/plain": [
              "Text(0, 0.5, ' loss')"
            ]
          },
          "metadata": {
            "tags": []
          },
          "execution_count": 19
        },
        {
          "output_type": "display_data",
          "data": {
            "image/png": "[encoded data removed]",
            "text/plain": [
              "<Figure size 432x288 with 1 Axes>"
            ]
          },
          "metadata": {
            "tags": []
          }
        }
      ]
    },
    {
      "cell_type": "code",
      "metadata": {
        "id": "tyilUMM4PmWY"
      },
      "source": [
        "Rgb_model.save('rgb_lastmodelmobilenet.h5')"
      ],
      "execution_count": null,
      "outputs": []
    },
    {
      "cell_type": "code",
      "metadata": {
        "id": "mOrcri_v7HXD"
      },
      "source": [
        "Rgb_model.load_weights(\"/content/rgb_lastmodelmobilenet.h5\")"
      ],
      "execution_count": null,
      "outputs": []
    },
    {
      "cell_type": "code",
      "metadata": {
        "id": "6R-nlqKBBuwy",
        "colab": {
          "base_uri": "https://localhost:8080/",
          "height": 52
        },
        "outputId": "50252301-09de-4f97-b361-543738c90984"
      },
      "source": [
        "Rgb_model.evaluate(test_batch,workers=16)"
      ],
      "execution_count": null,
      "outputs": [
        {
          "output_type": "stream",
          "text": [
            "66/66 [==============================] - 3s 44ms/step - loss: 1.9567 - top5acc: 0.9876 - top1acc: 0.6920\n"
          ],
          "name": "stdout"
        },
        {
          "output_type": "execute_result",
          "data": {
            "text/plain": [
              "[1.9566926956176758, 0.9875657558441162, 0.6920133829116821]"
            ]
          },
          "metadata": {
            "tags": []
          },
          "execution_count": 106
        }
      ]
    },
    {
      "cell_type": "code",
      "metadata": {
        "id": "sZvS8v2dQI8z"
      },
      "source": [
        "predict=Rgb_model.predict(test_batch,workers=16)"
      ],
      "execution_count": null,
      "outputs": []
    },
    {
      "cell_type": "code",
      "metadata": {
        "id": "c6qNW2ZaVd3m",
        "colab": {
          "base_uri": "https://localhost:8080/",
          "height": 246
        },
        "outputId": "4e29f331-1d40-4ccd-cae3-d81a0ac6328f"
      },
      "source": [
        "predict"
      ],
      "execution_count": null,
      "outputs": [
        {
          "output_type": "execute_result",
          "data": {
            "text/plain": [
              "array([[3.9800170e-16, 2.9086202e-18, 1.8055388e-10, ..., 2.0622362e-19,\n",
              "        1.0000000e+00, 3.2200558e-16],\n",
              "       [1.5857641e-09, 6.0972950e-13, 1.3363795e-05, ..., 1.2984713e-13,\n",
              "        4.7441450e-19, 9.9998665e-01],\n",
              "       [1.6250522e-11, 9.4866753e-01, 3.7053067e-02, ..., 1.4272505e-02,\n",
              "        1.3604372e-06, 5.6011932e-06],\n",
              "       ...,\n",
              "       [2.1217300e-10, 6.6035341e-08, 9.9857390e-01, ..., 6.3474652e-09,\n",
              "        1.1180583e-06, 1.4248231e-03],\n",
              "       [4.3743107e-17, 6.7426519e-18, 2.7743352e-10, ..., 1.6011696e-21,\n",
              "        1.0000000e+00, 3.7884367e-18],\n",
              "       [9.9998176e-01, 6.5906899e-17, 1.1591643e-13, ..., 1.8093200e-05,\n",
              "        3.8612963e-14, 1.1069572e-07]], dtype=float32)"
            ]
          },
          "metadata": {
            "tags": []
          },
          "execution_count": 108
        }
      ]
    },
    {
      "cell_type": "code",
      "metadata": {
        "id": "Ont_e-XNLpo5"
      },
      "source": [
        "real=test_batch.classes\n",
        "max=np.argmax(predict,axis=1)"
      ],
      "execution_count": null,
      "outputs": []
    },
    {
      "cell_type": "code",
      "metadata": {
        "id": "xxbHQRHOKRhy"
      },
      "source": [
        "from sklearn import metrics\n",
        "from sklearn.metrics import classification_report\n",
        "from sklearn import preprocessing\n",
        "import seaborn as sns"
      ],
      "execution_count": null,
      "outputs": []
    },
    {
      "cell_type": "code",
      "metadata": {
        "id": "ICq43XftL7BQ"
      },
      "source": [
        "confue_matrix=tf.math.confusion_matrix(real,max)"
      ],
      "execution_count": null,
      "outputs": []
    },
    {
      "cell_type": "code",
      "metadata": {
        "id": "KIw_wdU6QaLn"
      },
      "source": [
        ""
      ],
      "execution_count": null,
      "outputs": []
    }
  ]
}